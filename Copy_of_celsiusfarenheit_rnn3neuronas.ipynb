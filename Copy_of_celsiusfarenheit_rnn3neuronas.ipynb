{
  "nbformat": 4,
  "nbformat_minor": 0,
  "metadata": {
    "colab": {
      "provenance": [],
      "authorship_tag": "ABX9TyNTYfuDon6gbdpr4WbfLx2C",
      "include_colab_link": true
    },
    "kernelspec": {
      "name": "python3",
      "display_name": "Python 3"
    },
    "language_info": {
      "name": "python"
    }
  },
  "cells": [
    {
      "cell_type": "markdown",
      "metadata": {
        "id": "view-in-github",
        "colab_type": "text"
      },
      "source": [
        "<a href=\"https://colab.research.google.com/github/jyeverin/machinelearning-az/blob/master/Copy_of_celsiusfarenheit_rnn3neuronas.ipynb\" target=\"_parent\"><img src=\"https://colab.research.google.com/assets/colab-badge.svg\" alt=\"Open In Colab\"/></a>"
      ]
    },
    {
      "cell_type": "code",
      "execution_count": null,
      "metadata": {
        "id": "oKzfmz_fbl_q"
      },
      "outputs": [],
      "source": []
    },
    {
      "cell_type": "code",
      "source": [],
      "metadata": {
        "id": "aiQKHnzgbm1T"
      },
      "execution_count": null,
      "outputs": []
    },
    {
      "cell_type": "code",
      "source": [
        "\"\"\" Convertir GradosCelsius a Farenheit\"\"\"\n",
        "# Uso de aprendizaje automático o deep learning\n",
        "# Para convertir grados celsius a farenheit en un algoritmo tradicional usariamos:\n",
        "# Def Function (c); F = C * 1.8 + 32; Return F\n",
        "# Aqui utilizamos una red neuronal que tiene capas --> Input --> Hidden Layers--> Output\n",
        "# V.G. Input = 15C * 1.8 (weight) -->Output + Bias (4.5) = 27\n",
        "# importamos la primera libreria para IA tensoflow\n",
        "import tensorflow as tf\n",
        "tf.test.gpu_device_name()\n",
        "import numpy as np\n",
        "celsius = np.array ([-40,-10,0,8,15,22,38], dtype = float)\n",
        "farenheit = np.array ([-40, 14, 32, 46, 59, 72, 100], dtype = float)\n",
        "#capa = tf.keras.layers.Dense(units=1, input_shape = [1])\n",
        "# Ahora usamos 2 capas ocultas con 3 neuronas\n",
        "# modelo = tf.keras.Sequential([capa])\n",
        "# v. adelante keras.functional\n",
        "oculta1=tf.keras.layers.Dense(units=3, input_shape=[1])\n",
        "oculta2=tf.keras.layers.Dense(units=3)\n",
        "salida=tf.keras.layers.Dense(units=1)\n",
        "modelo=tf.keras.Sequential([oculta1, oculta2, salida])\n",
        "modelo.compile(optimizer = tf.keras.optimizers.Adam (0.1),loss='mean_squared_error')\n",
        "print (\"Comenzando entrenamiento...\")\n",
        "historial=modelo.fit(celsius, farenheit, epochs=1000, verbose=False)\n",
        "print (\"Modelo entrenado!\")\n",
        "# Graficar la magnitud de la perdida de en cada vuelta realizada\n",
        "import matplotlib.pyplot as plt\n",
        "plt.xlabel (\"num. epocas\")\n",
        "plt.ylabel(\"Magnitud de la perdida\")\n",
        "plt.plot(historial.history[\"loss\"])\n",
        "# Despliega grafico cuantas iteraciones tardo para optimizarse y aprender\n",
        "print (\"Hagamos una prediccion\")\n",
        "resultado=modelo.predict([100.0])\n",
        "print (\"El resultado es \" + str (resultado)+ \"farenheit\")\n",
        "print (\"Variables internas del modelo\")\n",
        "#print (capa.get_weights())\n",
        "print(oculta1.get_weights())\n",
        "print(oculta2.get_weights())\n",
        "print(salida.get_weights())"
      ],
      "metadata": {
        "colab": {
          "base_uri": "https://localhost:8080/",
          "height": 141
        },
        "id": "5iun2obybpW7",
        "outputId": "2b749713-53c9-4716-8f56-7f402e53d705"
      },
      "execution_count": 2,
      "outputs": [
        {
          "output_type": "error",
          "ename": "SyntaxError",
          "evalue": "ignored",
          "traceback": [
            "\u001b[0;36m  File \u001b[0;32m\"<ipython-input-2-f9add0fd62f9>\"\u001b[0;36m, line \u001b[0;32m17\u001b[0m\n\u001b[0;31m    oculta1=tf.keras.layers.Dense(units=3,input.shape=[1])\u001b[0m\n\u001b[0m                                          ^\u001b[0m\n\u001b[0;31mSyntaxError\u001b[0m\u001b[0;31m:\u001b[0m expression cannot contain assignment, perhaps you meant \"==\"?\n"
          ]
        }
      ]
    },
    {
      "cell_type": "code",
      "source": [],
      "metadata": {
        "id": "1XbYSYsrhjOt"
      },
      "execution_count": null,
      "outputs": []
    }
  ]
}